{
  "cells": [
    {
      "cell_type": "markdown",
      "metadata": {
        "id": "view-in-github",
        "colab_type": "text"
      },
      "source": [
        "<a href=\"https://colab.research.google.com/github/Tomasgf17/tro/blob/master/Te_damos_la_bienvenida_a_Colaboratory.ipynb\" target=\"_parent\"><img src=\"https://colab.research.google.com/assets/colab-badge.svg\" alt=\"Open In Colab\"/></a>"
      ]
    },
    {
      "cell_type": "code",
      "source": [
        "import sympy as sp"
      ],
      "metadata": {
        "id": "yy7ebpoRkawr"
      },
      "execution_count": 9,
      "outputs": []
    },
    {
      "cell_type": "code",
      "source": [
        "x = sp.symbols('x')"
      ],
      "metadata": {
        "id": "JaGsQ5vFkzgW"
      },
      "execution_count": 12,
      "outputs": []
    },
    {
      "cell_type": "code",
      "source": [
        "y = sp.symbols('y')"
      ],
      "metadata": {
        "id": "vyk7NQBzk9xt"
      },
      "execution_count": 15,
      "outputs": []
    },
    {
      "cell_type": "code",
      "source": [
        "x+x"
      ],
      "metadata": {
        "id": "F8vk951PlLEw",
        "outputId": "29c54fb9-9778-436f-f487-a4dd15ff2e39",
        "colab": {
          "base_uri": "https://localhost:8080/",
          "height": 38
        }
      },
      "execution_count": 6,
      "outputs": [
        {
          "output_type": "execute_result",
          "data": {
            "text/latex": "$\\displaystyle 2 x$",
            "text/plain": [
              "2*x"
            ]
          },
          "metadata": {},
          "execution_count": 6
        }
      ]
    },
    {
      "cell_type": "code",
      "source": [
        "#2x+1=0\n",
        "sp.solve(2*x+1)"
      ],
      "metadata": {
        "id": "bvTLv1BhlPgT",
        "outputId": "b5e84841-b310-4787-ec26-ed6ab5dbea0a",
        "colab": {
          "base_uri": "https://localhost:8080/"
        }
      },
      "execution_count": 9,
      "outputs": [
        {
          "output_type": "execute_result",
          "data": {
            "text/plain": [
              "[-1/2]"
            ]
          },
          "metadata": {},
          "execution_count": 9
        }
      ]
    },
    {
      "cell_type": "code",
      "source": [
        "#3x+8=2x-3\n",
        "ecuacion = sp.Eq(3*x+8,2*x-3)"
      ],
      "metadata": {
        "id": "kSXQh0ZNln2l"
      },
      "execution_count": 11,
      "outputs": []
    },
    {
      "cell_type": "code",
      "source": [
        "sp.solve(ecuacion)"
      ],
      "metadata": {
        "id": "gWJ1tWBBmEQt",
        "outputId": "34ea20d5-f298-49ae-f574-fe18246d2109",
        "colab": {
          "base_uri": "https://localhost:8080/"
        }
      },
      "execution_count": 12,
      "outputs": [
        {
          "output_type": "execute_result",
          "data": {
            "text/plain": [
              "[-11]"
            ]
          },
          "metadata": {},
          "execution_count": 12
        }
      ]
    },
    {
      "cell_type": "code",
      "source": [
        "#x^2-1=0\n",
        "soluciones = sp.solve(x**2-1)"
      ],
      "metadata": {
        "id": "82KXDcfgmbKF"
      },
      "execution_count": 15,
      "outputs": []
    },
    {
      "cell_type": "code",
      "source": [
        "soluciones[0]"
      ],
      "metadata": {
        "id": "K62tRiQknBfo",
        "outputId": "06fbb428-0c55-4c75-e358-94bb7ded033e",
        "colab": {
          "base_uri": "https://localhost:8080/",
          "height": 37
        }
      },
      "execution_count": 17,
      "outputs": [
        {
          "output_type": "execute_result",
          "data": {
            "text/latex": "$\\displaystyle -1$",
            "text/plain": [
              "-1"
            ]
          },
          "metadata": {},
          "execution_count": 17
        }
      ]
    },
    {
      "cell_type": "code",
      "source": [
        "sp.solve(x**2-3*x+1)"
      ],
      "metadata": {
        "id": "RnRBHEeEnf_9",
        "outputId": "ebd98516-6ea4-4d77-94df-65561b12168e",
        "colab": {
          "base_uri": "https://localhost:8080/"
        }
      },
      "execution_count": 19,
      "outputs": [
        {
          "output_type": "execute_result",
          "data": {
            "text/plain": [
              "[3/2 - sqrt(5)/2, sqrt(5)/2 + 3/2]"
            ]
          },
          "metadata": {},
          "execution_count": 19
        }
      ]
    },
    {
      "cell_type": "code",
      "source": [
        "sp.init_printing()"
      ],
      "metadata": {
        "id": "HVjqyFC1n8fS"
      },
      "execution_count": 20,
      "outputs": []
    },
    {
      "cell_type": "code",
      "source": [
        "sp.solve(x**2-3*x+1)"
      ],
      "metadata": {
        "id": "p8JM_cbdoQEc",
        "outputId": "9199499c-3b67-4f3d-fe7b-90cbef96ad49",
        "colab": {
          "base_uri": "https://localhost:8080/",
          "height": 68
        }
      },
      "execution_count": 21,
      "outputs": [
        {
          "output_type": "execute_result",
          "data": {
            "image/png": "[encoded data removed]",
            "text/latex": "$\\displaystyle \\left[ \\frac{3}{2} - \\frac{\\sqrt{5}}{2}, \\  \\frac{\\sqrt{5}}{2} + \\frac{3}{2}\\right]$",
            "text/plain": [
              "⎡3   √5  √5   3⎤\n",
              "⎢─ - ──, ── + ─⎥\n",
              "⎣2   2   2    2⎦"
            ]
          },
          "metadata": {},
          "execution_count": 21
        }
      ]
    },
    {
      "cell_type": "code",
      "source": [
        "sp.solve(x**2+1)"
      ],
      "metadata": {
        "id": "FkXTvi1Zobps",
        "outputId": "9f895cb2-38e3-4206-fd36-0eb76a154054",
        "colab": {
          "base_uri": "https://localhost:8080/",
          "height": 38
        }
      },
      "execution_count": 22,
      "outputs": [
        {
          "output_type": "execute_result",
          "data": {
            "image/png": "[encoded data removed]",
            "text/latex": "$\\displaystyle \\left[ - i, \\  i\\right]$",
            "text/plain": [
              "[-ⅈ, ⅈ]"
            ]
          },
          "metadata": {},
          "execution_count": 22
        }
      ]
    },
    {
      "cell_type": "code",
      "source": [
        "ecuacion = sp.Eq(x**3-5*x**2,-6*x)"
      ],
      "metadata": {
        "id": "SQcy6saFpfKQ"
      },
      "execution_count": 13,
      "outputs": []
    },
    {
      "cell_type": "code",
      "source": [
        "sp.solve(ecuacion)"
      ],
      "metadata": {
        "id": "ko-CCTUXqN_6",
        "outputId": "c0fbe7d7-f15f-42d1-9fe0-8da76dbe1331",
        "colab": {
          "base_uri": "https://localhost:8080/"
        }
      },
      "execution_count": 14,
      "outputs": [
        {
          "output_type": "execute_result",
          "data": {
            "text/plain": [
              "[0, 2, 3]"
            ]
          },
          "metadata": {},
          "execution_count": 14
        }
      ]
    },
    {
      "cell_type": "code",
      "source": [
        "sp.plot(x**2)"
      ],
      "metadata": {
        "id": "9EBQl9HNriPF",
        "outputId": "47e90d3b-f780-4fcd-85de-7cd44508d9b6",
        "colab": {
          "base_uri": "https://localhost:8080/",
          "height": 314
        }
      },
      "execution_count": 16,
      "outputs": [
        {
          "output_type": "display_data",
          "data": {
            "image/png": "[encoded data removed]",
            "text/plain": [
              "<Figure size 432x288 with 1 Axes>"
            ]
          },
          "metadata": {
            "needs_background": "light"
          }
        },
        {
          "output_type": "execute_result",
          "data": {
            "text/plain": [
              "<sympy.plotting.plot.Plot at 0x7f68f85b0850>"
            ]
          },
          "metadata": {},
          "execution_count": 16
        }
      ]
    },
    {
      "cell_type": "code",
      "source": [
        "sp.plot(x**2,ylim=(0,9),xlim=(0,3),line_color='r')"
      ],
      "metadata": {
        "id": "6zxTSwjVrs0c",
        "outputId": "e4d03041-6192-446a-ac8d-998a529fc7cc",
        "colab": {
          "base_uri": "https://localhost:8080/",
          "height": 315
        }
      },
      "execution_count": 24,
      "outputs": [
        {
          "output_type": "display_data",
          "data": {
            "image/png": "[encoded data removed]",
            "text/plain": [
              "<Figure size 432x288 with 1 Axes>"
            ]
          },
          "metadata": {
            "needs_background": "light"
          }
        },
        {
          "output_type": "execute_result",
          "data": {
            "text/plain": [
              "<sympy.plotting.plot.Plot at 0x7f68efb78910>"
            ]
          },
          "metadata": {},
          "execution_count": 24
        }
      ]
    },
    {
      "cell_type": "code",
      "source": [
        "f=1/(x**2-4)"
      ],
      "metadata": {
        "id": "vziUInPDu7ZM"
      },
      "execution_count": 25,
      "outputs": []
    },
    {
      "cell_type": "code",
      "source": [
        "sp.solve(x**2-4)"
      ],
      "metadata": {
        "id": "BuyIBZAzvg_w",
        "outputId": "58758e3f-166c-4e90-fc47-855baa9796d5",
        "colab": {
          "base_uri": "https://localhost:8080/"
        }
      },
      "execution_count": 26,
      "outputs": [
        {
          "output_type": "execute_result",
          "data": {
            "text/plain": [
              "[-2, 2]"
            ]
          },
          "metadata": {},
          "execution_count": 26
        }
      ]
    },
    {
      "cell_type": "code",
      "source": [
        "#f(-1)=-1/3\n",
        "f.subs(x,-1)"
      ],
      "metadata": {
        "id": "CJL4lrxNvuuF",
        "outputId": "fed91dff-940e-457c-97fc-bfd5bc0b41bd",
        "colab": {
          "base_uri": "https://localhost:8080/",
          "height": 52
        }
      },
      "execution_count": 28,
      "outputs": [
        {
          "output_type": "execute_result",
          "data": {
            "text/latex": "$\\displaystyle - \\frac{1}{3}$",
            "text/plain": [
              "-1/3"
            ]
          },
          "metadata": {},
          "execution_count": 28
        }
      ]
    },
    {
      "cell_type": "code",
      "source": [
        "f.subs(x,x+y)"
      ],
      "metadata": {
        "id": "ymoWiIQLwGZ3",
        "outputId": "6fef6559-eccc-47ba-8f88-673baa717baf",
        "colab": {
          "base_uri": "https://localhost:8080/",
          "height": 59
        }
      },
      "execution_count": 30,
      "outputs": [
        {
          "output_type": "execute_result",
          "data": {
            "text/latex": "$\\displaystyle \\frac{1}{\\left(x + y\\right)^{2} - 4}$",
            "text/plain": [
              "1/((x + y)**2 - 4)"
            ]
          },
          "metadata": {},
          "execution_count": 30
        }
      ]
    },
    {
      "cell_type": "code",
      "source": [
        "g=x**2-3*x*y"
      ],
      "metadata": {
        "id": "alVciWdywftp"
      },
      "execution_count": 33,
      "outputs": []
    },
    {
      "cell_type": "code",
      "source": [
        "g.subs(y,2)"
      ],
      "metadata": {
        "id": "WQXaoMD6wpYY",
        "outputId": "501ba93f-d64a-47e4-cac9-f7e62dbd53c3",
        "colab": {
          "base_uri": "https://localhost:8080/",
          "height": 38
        }
      },
      "execution_count": 35,
      "outputs": [
        {
          "output_type": "execute_result",
          "data": {
            "text/latex": "$\\displaystyle x^{2} - 6 x$",
            "text/plain": [
              "x**2 - 6*x"
            ]
          },
          "metadata": {},
          "execution_count": 35
        }
      ]
    },
    {
      "cell_type": "code",
      "source": [
        "g.subs(x,1).subs(y,2)"
      ],
      "metadata": {
        "id": "kZzhPF2jw4na",
        "outputId": "0e99ea85-6f2d-40df-d7ef-0580d044bce0",
        "colab": {
          "base_uri": "https://localhost:8080/",
          "height": 37
        }
      },
      "execution_count": 36,
      "outputs": [
        {
          "output_type": "execute_result",
          "data": {
            "text/latex": "$\\displaystyle -5$",
            "text/plain": [
              "-5"
            ]
          },
          "metadata": {},
          "execution_count": 36
        }
      ]
    },
    {
      "cell_type": "code",
      "source": [
        "g.subs([[x,1],[y,2]])"
      ],
      "metadata": {
        "id": "wMdL_U42xIfi",
        "outputId": "07d90aa8-58ba-40c1-d400-88c9c2fa00b4",
        "colab": {
          "base_uri": "https://localhost:8080/",
          "height": 37
        }
      },
      "execution_count": 39,
      "outputs": [
        {
          "output_type": "execute_result",
          "data": {
            "text/latex": "$\\displaystyle -5$",
            "text/plain": [
              "-5"
            ]
          },
          "metadata": {},
          "execution_count": 39
        }
      ]
    },
    {
      "cell_type": "code",
      "source": [
        "f"
      ],
      "metadata": {
        "id": "o5h3KcqFxmjg",
        "outputId": "129abd38-447e-49cb-df04-ce29f6674947",
        "colab": {
          "base_uri": "https://localhost:8080/",
          "height": 52
        }
      },
      "execution_count": 40,
      "outputs": [
        {
          "output_type": "execute_result",
          "data": {
            "text/latex": "$\\displaystyle \\frac{1}{x^{2} - 4}$",
            "text/plain": [
              "1/(x**2 - 4)"
            ]
          },
          "metadata": {},
          "execution_count": 40
        }
      ]
    },
    {
      "cell_type": "code",
      "source": [
        "f.subs(x,g)"
      ],
      "metadata": {
        "id": "XGlTigpYxsg9",
        "outputId": "ff4ba089-2743-415d-e448-aff617c45454",
        "colab": {
          "base_uri": "https://localhost:8080/",
          "height": 59
        }
      },
      "execution_count": 42,
      "outputs": [
        {
          "output_type": "execute_result",
          "data": {
            "text/latex": "$\\displaystyle \\frac{1}{\\left(x^{2} - 3 x y\\right)^{2} - 4}$",
            "text/plain": [
              "1/((x**2 - 3*x*y)**2 - 4)"
            ]
          },
          "metadata": {},
          "execution_count": 42
        }
      ]
    },
    {
      "cell_type": "code",
      "source": [
        "x**2-2*x+1"
      ],
      "metadata": {
        "id": "NrrY-5vwx-uE",
        "outputId": "366b33cb-6494-40c3-b70d-ebaf299f4578",
        "colab": {
          "base_uri": "https://localhost:8080/",
          "height": 38
        }
      },
      "execution_count": 43,
      "outputs": [
        {
          "output_type": "execute_result",
          "data": {
            "text/latex": "$\\displaystyle x^{2} - 2 x + 1$",
            "text/plain": [
              "x**2 - 2*x + 1"
            ]
          },
          "metadata": {},
          "execution_count": 43
        }
      ]
    },
    {
      "cell_type": "code",
      "source": [
        "sp.factor(x**2-2*x+1)"
      ],
      "metadata": {
        "id": "xVjMyevNyRe2",
        "outputId": "46aac8fe-2d71-4c63-a34a-7c82cb48a4d4",
        "colab": {
          "base_uri": "https://localhost:8080/",
          "height": 39
        }
      },
      "execution_count": 44,
      "outputs": [
        {
          "output_type": "execute_result",
          "data": {
            "text/latex": "$\\displaystyle \\left(x - 1\\right)^{2}$",
            "text/plain": [
              "(x - 1)**2"
            ]
          },
          "metadata": {},
          "execution_count": 44
        }
      ]
    },
    {
      "cell_type": "code",
      "source": [
        "x*(x-2)*(3*x-2)**2"
      ],
      "metadata": {
        "id": "MDxjO290yc6K",
        "outputId": "8de00447-b280-4b74-9f02-d1a68ac6740c",
        "colab": {
          "base_uri": "https://localhost:8080/",
          "height": 39
        }
      },
      "execution_count": 45,
      "outputs": [
        {
          "output_type": "execute_result",
          "data": {
            "text/latex": "$\\displaystyle x \\left(x - 2\\right) \\left(3 x - 2\\right)^{2}$",
            "text/plain": [
              "x*(x - 2)*(3*x - 2)**2"
            ]
          },
          "metadata": {},
          "execution_count": 45
        }
      ]
    },
    {
      "cell_type": "code",
      "source": [
        "sp.expand(x*(x-2)*(3*x-2)**2)"
      ],
      "metadata": {
        "id": "7PPUcYLty6eu",
        "outputId": "17405a9e-552e-479b-e549-ecb5ea351752",
        "colab": {
          "base_uri": "https://localhost:8080/",
          "height": 38
        }
      },
      "execution_count": 46,
      "outputs": [
        {
          "output_type": "execute_result",
          "data": {
            "text/latex": "$\\displaystyle 9 x^{4} - 30 x^{3} + 28 x^{2} - 8 x$",
            "text/plain": [
              "9*x**4 - 30*x**3 + 28*x**2 - 8*x"
            ]
          },
          "metadata": {},
          "execution_count": 46
        }
      ]
    }
  ],
  "metadata": {
    "colab": {
      "collapsed_sections": [],
      "name": "Te damos la bienvenida a Colaboratory",
      "provenance": [],
      "include_colab_link": true
    },
    "kernelspec": {
      "display_name": "Python 3",
      "name": "python3"
    }
  },
  "nbformat": 4,
  "nbformat_minor": 0
}