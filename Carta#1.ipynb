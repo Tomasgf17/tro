{
  "nbformat": 4,
  "nbformat_minor": 0,
  "metadata": {
    "colab": {
      "name": "Untitled0.ipynb",
      "provenance": [],
      "authorship_tag": "ABX9TyMVSCFVqjsT8A3SiyZgeO/u",
      "include_colab_link": true
    },
    "kernelspec": {
      "name": "python3",
      "display_name": "Python 3"
    },
    "language_info": {
      "name": "python"
    }
  },
  "cells": [
    {
      "cell_type": "markdown",
      "metadata": {
        "id": "view-in-github",
        "colab_type": "text"
      },
      "source": [
        "<a href=\"https://colab.research.google.com/github/Tomasgf17/tro/blob/master/Carta%231.ipynb\" target=\"_parent\"><img src=\"https://colab.research.google.com/assets/colab-badge.svg\" alt=\"Open In Colab\"/></a>"
      ]
    },
    {
      "cell_type": "code",
      "source": [
        "Nombre = 'Tomás Gómez'"
      ],
      "metadata": {
        "id": "K2r5h_oJacIX"
      },
      "execution_count": null,
      "outputs": []
    },
    {
      "cell_type": "code",
      "source": [
        "edad = '18'"
      ],
      "metadata": {
        "id": "y6esE69Tajqx"
      },
      "execution_count": null,
      "outputs": []
    },
    {
      "cell_type": "code",
      "source": [
        "Carta = ('Hola {} en este momento tenemos {} años, te escribi esta carta porque espero que estemos muy bien de salud, porque estemos muy enfacados en nuestras metas, tambien espero que sigas manteniendo ese entusiasmo y animo con el que iniciamos la carrera y que estemos creciendo mucho como personas, que muchos de los errores y dificultades que teniamos come persona los hayamos corregido y seamos mejores, espero que hayas seguido cuidadno a las personas que mas amas y que las sigas teniendo cerca de ti.'.format(Nombre,edad))"
      ],
      "metadata": {
        "id": "H0943VGCbMq-"
      },
      "execution_count": null,
      "outputs": []
    },
    {
      "cell_type": "code",
      "source": [
        "Carta"
      ],
      "metadata": {
        "colab": {
          "base_uri": "https://localhost:8080/",
          "height": 254
        },
        "id": "ep8em9Defm_w",
        "outputId": "42bc5965-7771-48a7-bf8f-1aacb6bf2ad2"
      },
      "execution_count": null,
      "outputs": [
        {
          "output_type": "execute_result",
          "data": {
            "application/vnd.google.colaboratory.intrinsic+json": {
              "type": "string"
            },
            "text/plain": [
              "'Hola Tomás en este momento tenemos 18 años, te escribi esta carta porque espero que estemos muy bien de salud, porque estemos muy enfacados en nuestras metas, tambien espero que sigas manteniendo ese entusiasmo y animo con el que iniciamos la carrera y que estemos creciendo mucho como personas, que muchos de los errores y dificultades que teniamos come persona los hayamos corregido y seamos mejores, espero que hayas seguido cuidadno a las personas que mas amas y que las sigas teniendo cerca de ti.'"
            ]
          },
          "metadata": {},
          "execution_count": 14
        }
      ]
    },
    {
      "cell_type": "code",
      "source": [
        "print('Carta'.rjust(220,'-'))\n",
        "print('Hola {} en este momento tenemos {} años, te escribi esta carta porque espero que estemos muy bien de salud, porque estemos muy enfacados en nuestras metas, tambien espero que sigas manteniendo ese entusiasmo y animo con el que iniciamos la carrera y que estemos creciendo mucho como personas, que muchos de los errores y dificultades que teniamos come persona los hayamos corregido y seamos mejores, espero que hayas seguido cuidadno a las personas que mas amas y que las sigas teniendo cerca de ti.'.format(Nombre,edad).rjust(40,'-'))"
      ],
      "metadata": {
        "colab": {
          "base_uri": "https://localhost:8080/"
        },
        "id": "oKWPBs-ggafh",
        "outputId": "8ee779cc-e002-482a-dba8-ef3fc48effee"
      },
      "execution_count": null,
      "outputs": [
        {
          "output_type": "stream",
          "name": "stdout",
          "text": [
            "-----------------------------------------------------------------------------------------------------------------------------------------------------------------------------------------------------------------------Carta\n",
            "Hola Tomás Gómez en este momento tenemos 18 años, te escribi esta carta porque espero que estemos muy bien de salud, porque estemos muy enfacados en nuestras metas, tambien espero que sigas manteniendo ese entusiasmo y animo con el que iniciamos la carrera y que estemos creciendo mucho como personas, que muchos de los errores y dificultades que teniamos come persona los hayamos corregido y seamos mejores, espero que hayas seguido cuidadno a las personas que mas amas y que las sigas teniendo cerca de ti.\n"
          ]
        }
      ]
    }
  ]
}